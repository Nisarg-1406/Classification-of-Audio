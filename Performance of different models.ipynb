{
 "cells": [
  {
   "cell_type": "code",
   "execution_count": 5,
   "metadata": {},
   "outputs": [
    {
     "name": "stderr",
     "output_type": "stream",
     "text": [
      "WARNING: pip is being invoked by an old script wrapper. This will fail in a future version of pip.\n",
      "Please see https://github.com/pypa/pip/issues/5599 for advice on fixing the underlying issue.\n",
      "To avoid this problem you can invoke Python with '-m pip' instead of running pip directly.\n"
     ]
    },
    {
     "name": "stdout",
     "output_type": "stream",
     "text": [
      "Collecting progressbar\n",
      "  Downloading progressbar-2.5.tar.gz (10 kB)\n",
      "Building wheels for collected packages: progressbar\n",
      "  Building wheel for progressbar (setup.py): started\n",
      "  Building wheel for progressbar (setup.py): finished with status 'done'\n",
      "  Created wheel for progressbar: filename=progressbar-2.5-py3-none-any.whl size=12078 sha256=2153caad67001f907688b86a1f5aaca3d04983c83b1d0ed29fa4cec95ae7d69c\n",
      "  Stored in directory: c:\\users\\nisarg mehta\\appdata\\local\\pip\\cache\\wheels\\2c\\67\\ed\\d84123843c937d7e7f5ba88a270d11036473144143355e2747\n",
      "Successfully built progressbar\n",
      "Installing collected packages: progressbar\n",
      "Successfully installed progressbar-2.5\n"
     ]
    },
    {
     "data": {
      "text/plain": [
       "0"
      ]
     },
     "execution_count": 5,
     "metadata": {},
     "output_type": "execute_result"
    }
   ],
   "source": [
    "from pip._internal import main\n",
    "main([\"install\",\"progressbar\"])"
   ]
  },
  {
   "cell_type": "code",
   "execution_count": 8,
   "metadata": {},
   "outputs": [],
   "source": [
    "import progressbar\n",
    "import time\n",
    "import os\n",
    "import struct"
   ]
  },
  {
   "cell_type": "code",
   "execution_count": 9,
   "metadata": {},
   "outputs": [],
   "source": [
    "import matplotlib.pyplot as plt\n",
    "import IPython.display as ipd\n",
    "import pandas as pd\n",
    "import numpy as np\n",
    "import librosa # for sound processing.\n",
    "import DataCollection as dc # a local module"
   ]
  },
  {
   "cell_type": "code",
   "execution_count": 11,
   "metadata": {},
   "outputs": [
    {
     "data": {
      "text/html": [
       "<div>\n",
       "<style scoped>\n",
       "    .dataframe tbody tr th:only-of-type {\n",
       "        vertical-align: middle;\n",
       "    }\n",
       "\n",
       "    .dataframe tbody tr th {\n",
       "        vertical-align: top;\n",
       "    }\n",
       "\n",
       "    .dataframe thead th {\n",
       "        text-align: right;\n",
       "    }\n",
       "</style>\n",
       "<table border=\"1\" class=\"dataframe\">\n",
       "  <thead>\n",
       "    <tr style=\"text-align: right;\">\n",
       "      <th></th>\n",
       "      <th>slice_file_name</th>\n",
       "      <th>fsID</th>\n",
       "      <th>start</th>\n",
       "      <th>end</th>\n",
       "      <th>salience</th>\n",
       "      <th>fold</th>\n",
       "      <th>classID</th>\n",
       "      <th>class</th>\n",
       "    </tr>\n",
       "  </thead>\n",
       "  <tbody>\n",
       "    <tr>\n",
       "      <th>0</th>\n",
       "      <td>100032-3-0-0.wav</td>\n",
       "      <td>100032</td>\n",
       "      <td>0.0</td>\n",
       "      <td>0.317551</td>\n",
       "      <td>1</td>\n",
       "      <td>5</td>\n",
       "      <td>3</td>\n",
       "      <td>dog_bark</td>\n",
       "    </tr>\n",
       "    <tr>\n",
       "      <th>1</th>\n",
       "      <td>100263-2-0-117.wav</td>\n",
       "      <td>100263</td>\n",
       "      <td>58.5</td>\n",
       "      <td>62.500000</td>\n",
       "      <td>1</td>\n",
       "      <td>5</td>\n",
       "      <td>2</td>\n",
       "      <td>children_playing</td>\n",
       "    </tr>\n",
       "    <tr>\n",
       "      <th>2</th>\n",
       "      <td>100263-2-0-121.wav</td>\n",
       "      <td>100263</td>\n",
       "      <td>60.5</td>\n",
       "      <td>64.500000</td>\n",
       "      <td>1</td>\n",
       "      <td>5</td>\n",
       "      <td>2</td>\n",
       "      <td>children_playing</td>\n",
       "    </tr>\n",
       "    <tr>\n",
       "      <th>3</th>\n",
       "      <td>100263-2-0-126.wav</td>\n",
       "      <td>100263</td>\n",
       "      <td>63.0</td>\n",
       "      <td>67.000000</td>\n",
       "      <td>1</td>\n",
       "      <td>5</td>\n",
       "      <td>2</td>\n",
       "      <td>children_playing</td>\n",
       "    </tr>\n",
       "    <tr>\n",
       "      <th>4</th>\n",
       "      <td>100263-2-0-137.wav</td>\n",
       "      <td>100263</td>\n",
       "      <td>68.5</td>\n",
       "      <td>72.500000</td>\n",
       "      <td>1</td>\n",
       "      <td>5</td>\n",
       "      <td>2</td>\n",
       "      <td>children_playing</td>\n",
       "    </tr>\n",
       "  </tbody>\n",
       "</table>\n",
       "</div>"
      ],
      "text/plain": [
       "      slice_file_name    fsID  start        end  salience  fold  classID  \\\n",
       "0    100032-3-0-0.wav  100032    0.0   0.317551         1     5        3   \n",
       "1  100263-2-0-117.wav  100263   58.5  62.500000         1     5        2   \n",
       "2  100263-2-0-121.wav  100263   60.5  64.500000         1     5        2   \n",
       "3  100263-2-0-126.wav  100263   63.0  67.000000         1     5        2   \n",
       "4  100263-2-0-137.wav  100263   68.5  72.500000         1     5        2   \n",
       "\n",
       "              class  \n",
       "0          dog_bark  \n",
       "1  children_playing  \n",
       "2  children_playing  \n",
       "3  children_playing  \n",
       "4  children_playing  "
      ]
     },
     "execution_count": 11,
     "metadata": {},
     "output_type": "execute_result"
    }
   ],
   "source": [
    "data = pd.read_csv(\"UrbanSound8K/metadata/UrbanSound8K.csv\")\n",
    "data.head()"
   ]
  },
  {
   "cell_type": "code",
   "execution_count": 12,
   "metadata": {},
   "outputs": [
    {
     "data": {
      "text/plain": [
       "8732"
      ]
     },
     "execution_count": 12,
     "metadata": {},
     "output_type": "execute_result"
    }
   ],
   "source": [
    "data.shape[0]"
   ]
  },
  {
   "cell_type": "code",
   "execution_count": 13,
   "metadata": {},
   "outputs": [
    {
     "data": {
      "text/plain": [
       "(8732, 2)"
      ]
     },
     "execution_count": 13,
     "metadata": {},
     "output_type": "execute_result"
    }
   ],
   "source": [
    "###data = data.sort_values(by=['fold', 'classID',\"fsID\"], ascending=[True, True, True])\n",
    "dataset = np.zeros(shape = (data.shape[0],2),dtype = object)\n",
    "dataset.shape"
   ]
  },
  {
   "cell_type": "code",
   "execution_count": 15,
   "metadata": {},
   "outputs": [
    {
     "name": "stderr",
     "output_type": "stream",
     "text": [
      "C:\\Anaconda\\lib\\site-packages\\librosa\\core\\spectrum.py:222: UserWarning: n_fft=2048 is too small for input signal of length=1323\n",
      "  warnings.warn(\n",
      "C:\\Anaconda\\lib\\site-packages\\librosa\\core\\spectrum.py:222: UserWarning: n_fft=2048 is too small for input signal of length=1103\n",
      "  warnings.warn(\n",
      "C:\\Anaconda\\lib\\site-packages\\librosa\\core\\spectrum.py:222: UserWarning: n_fft=2048 is too small for input signal of length=1523\n",
      "  warnings.warn(\n",
      "||$$$$$$$$$$$$$$$$$$$$$$$$$$$$$$$$$$$ ||  99%\r"
     ]
    }
   ],
   "source": [
    "bar = progressbar.ProgressBar(maxval=data.shape[0], widgets=[progressbar.Bar('$', '||', '||'), ' ', progressbar.Percentage()])\n",
    "bar.start()\n",
    "for i in range(data.shape[0]):    \n",
    "    fullpath, class_id = dc.path_class(data,data.slice_file_name[i])\n",
    "    try:\n",
    "        X, sample_rate = librosa.load(fullpath, res_type='kaiser_fast')\n",
    "        mfccs = np.mean(librosa.feature.mfcc(y=X, sr=sample_rate, n_mfcc=40).T,axis=0)\n",
    "    except Exception:\n",
    "        print(\"Error encountered while parsing file: \", file)\n",
    "        mfccs,class_id = None, None\n",
    "    feature = mfccs\n",
    "    label = class_id\n",
    "    dataset[i,0],dataset[i,1] = feature,label\n",
    "    bar.update(i+1)"
   ]
  },
  {
   "cell_type": "code",
   "execution_count": 22,
   "metadata": {},
   "outputs": [],
   "source": [
    "np.save(\"dataset_melspectrogram\",dataset,allow_pickle=True)"
   ]
  },
  {
   "cell_type": "code",
   "execution_count": 30,
   "metadata": {},
   "outputs": [],
   "source": [
    "import numpy as np\n",
    "import pandas as pd\n",
    "import seaborn as sns"
   ]
  },
  {
   "cell_type": "code",
   "execution_count": 35,
   "metadata": {},
   "outputs": [],
   "source": [
    "from matplotlib import pyplot as plt\n",
    "from sklearn.preprocessing import LabelEncoder\n",
    "from sklearn.preprocessing import StandardScaler"
   ]
  },
  {
   "cell_type": "code",
   "execution_count": 36,
   "metadata": {},
   "outputs": [],
   "source": [
    "std = StandardScaler()\n",
    "\n",
    "data = pd.DataFrame(np.load(\"dataset.npy\",allow_pickle= True))\n",
    "data.columns = ['feature', 'label']"
   ]
  },
  {
   "cell_type": "code",
   "execution_count": 40,
   "metadata": {},
   "outputs": [],
   "source": [
    "X = np.array(data.feature.tolist())\n",
    "std.fit(X)\n",
    "Y = np.array(data.label.tolist())"
   ]
  },
  {
   "cell_type": "code",
   "execution_count": 42,
   "metadata": {},
   "outputs": [
    {
     "name": "stdout",
     "output_type": "stream",
     "text": [
      "['air_conditioner' 'car_horn' 'children_playing' 'dog_bark' 'drilling'\n",
      " 'engine_idling' 'gun_shot' 'jackhammer' 'siren' 'street_music']\n"
     ]
    },
    {
     "data": {
      "image/png": "[encoded data removed]",
      "text/plain": [
       "<Figure size 432x288 with 1 Axes>"
      ]
     },
     "metadata": {
      "needs_background": "light"
     },
     "output_type": "display_data"
    }
   ],
   "source": [
    "%matplotlib inline\n",
    "plt.hist(Y, bins = 30);\n",
    "print(np.unique(Y))"
   ]
  },
  {
   "cell_type": "code",
   "execution_count": 46,
   "metadata": {},
   "outputs": [
    {
     "data": {
      "text/plain": [
       "((8732, 40), (8732,), (1, 40))"
      ]
     },
     "execution_count": 46,
     "metadata": {},
     "output_type": "execute_result"
    }
   ],
   "source": [
    "X.shape,Y.shape,X[0].reshape(1,X[0].shape[0]).shape"
   ]
  },
  {
   "cell_type": "code",
   "execution_count": 47,
   "metadata": {},
   "outputs": [],
   "source": [
    "from sklearn.model_selection import train_test_split\n",
    "X,val_x,y,val_y = train_test_split(X,Y,test_size=0.3)\n",
    "lb = LabelEncoder()"
   ]
  },
  {
   "cell_type": "code",
   "execution_count": 49,
   "metadata": {},
   "outputs": [
    {
     "name": "stdout",
     "output_type": "stream",
     "text": [
      "Collecting keras\n",
      "  Downloading Keras-2.4.3-py2.py3-none-any.whl (36 kB)\n",
      "Requirement already satisfied: scipy>=0.14 in c:\\anaconda\\lib\\site-packages (from keras) (1.5.2)\n",
      "Requirement already satisfied: h5py in c:\\anaconda\\lib\\site-packages (from keras) (2.10.0)\n",
      "Requirement already satisfied: numpy>=1.9.1 in c:\\anaconda\\lib\\site-packages (from keras) (1.19.2)\n",
      "Requirement already satisfied: pyyaml in c:\\anaconda\\lib\\site-packages (from keras) (5.3.1)\n",
      "Requirement already satisfied: six in c:\\anaconda\\lib\\site-packages (from h5py->keras) (1.15.0)\n",
      "Installing collected packages: keras\n",
      "Successfully installed keras-2.4.3\n"
     ]
    }
   ],
   "source": [
    "!pip install keras"
   ]
  },
  {
   "cell_type": "code",
   "execution_count": 51,
   "metadata": {},
   "outputs": [],
   "source": [
    "from keras.utils import np_utils\n",
    "\n",
    "y_en = np_utils.to_categorical(lb.fit_transform(y))\n",
    "val_y_en = np_utils.to_categorical(lb.fit_transform(val_y))"
   ]
  },
  {
   "cell_type": "code",
   "execution_count": 56,
   "metadata": {},
   "outputs": [],
   "source": [
    "def acc(y_test,prediction):\n",
    "\n",
    "    ### PRINTING ACCURACY OF PREDICTION\n",
    "    ### RECALL\n",
    "    ### PRECISION\n",
    "    ### CLASIFICATION REPORT\n",
    "    ### CONFUSION MATRIX\n",
    "    cm = confusion_matrix(y_test, prediction)\n",
    "    recall = np.diag(cm) / np.sum(cm, axis = 1)\n",
    "    precision = np.diag(cm) / np.sum(cm, axis = 0)\n",
    "    \n",
    "    print ('Recall:', recall)\n",
    "    print ('Precision:', precision)\n",
    "    print ('\\n clasification report:\\n', classification_report(y_test,prediction))\n",
    "    print ('\\n confussion matrix:\\n',confusion_matrix(y_test, prediction))\n",
    "    \n",
    "    ax = sns.heatmap(confusion_matrix(y_test, prediction),linewidths= 0.5,cmap=\"YlGnBu\")"
   ]
  },
  {
   "cell_type": "code",
   "execution_count": 62,
   "metadata": {},
   "outputs": [],
   "source": [
    "import numpy as np\n",
    "from keras.models import Sequential\n",
    "from keras.layers import Dense, Dropout, Activation, Flatten\n",
    "from keras.layers import Convolution2D, MaxPooling2D"
   ]
  },
  {
   "cell_type": "code",
   "execution_count": 66,
   "metadata": {},
   "outputs": [],
   "source": [
    "from keras.optimizers import Adam\n",
    "from keras.utils import np_utils\n",
    "from sklearn import metrics \n",
    "from sklearn.metrics import precision_score, recall_score, confusion_matrix, classification_report, accuracy_score, f1_score\n",
    "from keras.callbacks import LearningRateScheduler"
   ]
  },
  {
   "cell_type": "code",
   "execution_count": 70,
   "metadata": {},
   "outputs": [],
   "source": [
    "num_labels = y_en.shape[1]\n",
    "nets = 5\n",
    "\n",
    "model = [0] *nets"
   ]
  },
  {
   "cell_type": "code",
   "execution_count": 71,
   "metadata": {},
   "outputs": [],
   "source": [
    "# build model\n",
    "for net in range(nets):\n",
    "    model[net] = Sequential()\n",
    "\n",
    "\n",
    "    model[net].add(Dense(512, input_shape=(40,)))\n",
    "    model[net].add(Activation('relu'))\n",
    "    model[net].add(Dropout(0.45))\n",
    "\n",
    "\n",
    "    model[net].add(Dense(256))\n",
    "    model[net].add(Activation('relu'))\n",
    "    model[net].add(Dropout(0.45))\n",
    "\n",
    "\n",
    "    model[net].add(Dense(num_labels))\n",
    "    model[net].add(Activation('softmax'))\n",
    "    \n",
    "    model[net].compile(loss='categorical_crossentropy', metrics=['accuracy'], optimizer='RMSprop')"
   ]
  },
  {
   "cell_type": "code",
   "execution_count": 75,
   "metadata": {},
   "outputs": [
    {
     "name": "stdout",
     "output_type": "stream",
     "text": [
      "Model: \"sequential_4\"\n",
      "_________________________________________________________________\n",
      "Layer (type)                 Output Shape              Param #   \n",
      "=================================================================\n",
      "dense_12 (Dense)             (None, 512)               20992     \n",
      "_________________________________________________________________\n",
      "activation_12 (Activation)   (None, 512)               0         \n",
      "_________________________________________________________________\n",
      "dropout_8 (Dropout)          (None, 512)               0         \n",
      "_________________________________________________________________\n",
      "dense_13 (Dense)             (None, 256)               131328    \n",
      "_________________________________________________________________\n",
      "activation_13 (Activation)   (None, 256)               0         \n",
      "_________________________________________________________________\n",
      "dropout_9 (Dropout)          (None, 256)               0         \n",
      "_________________________________________________________________\n",
      "dense_14 (Dense)             (None, 10)                2570      \n",
      "_________________________________________________________________\n",
      "activation_14 (Activation)   (None, 10)                0         \n",
      "=================================================================\n",
      "Total params: 154,890\n",
      "Trainable params: 154,890\n",
      "Non-trainable params: 0\n",
      "_________________________________________________________________\n"
     ]
    }
   ],
   "source": [
    "model[-1].summary()"
   ]
  },
  {
   "cell_type": "code",
   "execution_count": 79,
   "metadata": {},
   "outputs": [
    {
     "name": "stdout",
     "output_type": "stream",
     "text": [
      "CNN 1: Epochs=132, Train accuracy=0.96531, Validation accuracy=0.93893\n",
      "CNN 2: Epochs=132, Train accuracy=0.92523, Validation accuracy=0.92214\n",
      "CNN 3: Epochs=132, Train accuracy=0.92834, Validation accuracy=0.91908\n",
      "CNN 4: Epochs=132, Train accuracy=0.92834, Validation accuracy=0.92252\n",
      "CNN 5: Epochs=132, Train accuracy=0.92359, Validation accuracy=0.92061\n"
     ]
    }
   ],
   "source": [
    "# TRAIN NETWORKS\n",
    "history = [0] * nets\n",
    "epochs = 132\n",
    "for j in range(nets):\n",
    "    X_train2, X_val2, Y_train2, Y_val2 = X,val_x, y_en, val_y_en\n",
    "    history[j] = model[j].fit(X,Y_train2, batch_size=256,\n",
    "        epochs = epochs,   \n",
    "        validation_data = (X_val2,Y_val2),  verbose=0)\n",
    "    print(\"CNN {0:d}: Epochs={1:d}, Train accuracy={2:.5f}, Validation accuracy={3:.5f}\".format(\n",
    "        j+1,epochs,max(history[j].history[\"accuracy\"]),max(history[j].history[\"val_accuracy\"]) ))"
   ]
  },
  {
   "cell_type": "code",
   "execution_count": 82,
   "metadata": {},
   "outputs": [
    {
     "data": {
      "image/png": "[encoded data removed]",
      "text/plain": [
       "<Figure size 4608x4608 with 1 Axes>"
      ]
     },
     "metadata": {
      "needs_background": "light"
     },
     "output_type": "display_data"
    },
    {
     "data": {
      "image/png": "[encoded data removed]",
      "text/plain": [
       "<Figure size 432x288 with 1 Axes>"
      ]
     },
     "metadata": {
      "needs_background": "light"
     },
     "output_type": "display_data"
    }
   ],
   "source": [
    "net = -1\n",
    "name_title = ['Loss','Accuracy']\n",
    "fig=plt.figure(figsize=(64,64))\n",
    "for i in range(0,2):\n",
    "    ax=fig.add_subplot(8,8,i+1)\n",
    "    plt.plot(history[net].history[list(history[net].history.keys())[i]], label = list(history[net].history.keys())[i] )\n",
    "    plt.plot(history[net].history[list(history[net].history.keys())[i+2]],label = list(history[net].history.keys())[i+2] )\n",
    "    plt.xlabel('Epochs', fontsize=18)\n",
    "    plt.ylabel(name_title[i], fontsize=18)\n",
    "    plt.legend()\n",
    "    plt.show()"
   ]
  },
  {
   "cell_type": "code",
   "execution_count": 85,
   "metadata": {},
   "outputs": [],
   "source": [
    "results = np.zeros( (val_x.shape[0],10) ) \n",
    "for j in range(nets):\n",
    "    results = results  + model[j].predict(val_x)\n",
    "results = np.argmax(results,axis = 1)"
   ]
  },
  {
   "cell_type": "code",
   "execution_count": 88,
   "metadata": {},
   "outputs": [
    {
     "name": "stdout",
     "output_type": "stream",
     "text": [
      "Recall: [0.97515528 0.90714286 0.91830065 0.85534591 0.95683453 0.97192982\n",
      " 0.80412371 0.98032787 0.96254682 0.85761589]\n",
      "Precision: [0.95440729 0.94776119 0.83136095 0.91275168 0.96376812 0.94539249\n",
      " 0.95121951 0.96141479 0.96254682 0.8869863 ]\n",
      "\n",
      " clasification report:\n",
      "               precision    recall  f1-score   support\n",
      "\n",
      "           0       0.95      0.98      0.96       322\n",
      "           1       0.95      0.91      0.93       140\n",
      "           2       0.83      0.92      0.87       306\n",
      "           3       0.91      0.86      0.88       318\n",
      "           4       0.96      0.96      0.96       278\n",
      "           5       0.95      0.97      0.96       285\n",
      "           6       0.95      0.80      0.87        97\n",
      "           7       0.96      0.98      0.97       305\n",
      "           8       0.96      0.96      0.96       267\n",
      "           9       0.89      0.86      0.87       302\n",
      "\n",
      "    accuracy                           0.93      2620\n",
      "   macro avg       0.93      0.92      0.92      2620\n",
      "weighted avg       0.93      0.93      0.93      2620\n",
      "\n",
      "\n",
      " confussion matrix:\n",
      " [[314   0   1   0   0   0   0   3   0   4]\n",
      " [  0 127   0   3   0   1   0   2   1   6]\n",
      " [  3   1 281   8   1   5   0   0   1   6]\n",
      " [  4   3  19 272   2   4   3   0   3   8]\n",
      " [  0   0   1   1 266   1   1   4   1   3]\n",
      " [  1   0   2   0   1 277   0   0   0   4]\n",
      " [  1   0  10   5   0   0  78   2   0   1]\n",
      " [  0   0   0   0   5   0   0 299   0   1]\n",
      " [  1   0   5   2   0   2   0   0 257   0]\n",
      " [  5   3  19   7   1   3   0   1   4 259]]\n"
     ]
    },
    {
     "data": {
      "image/png": "[encoded data removed]",
      "text/plain": [
       "<Figure size 432x288 with 2 Axes>"
      ]
     },
     "metadata": {
      "needs_background": "light"
     },
     "output_type": "display_data"
    }
   ],
   "source": [
    "val_y_n = np.argmax(val_y_en,axis =1)\n",
    "acc(val_y_n,results)"
   ]
  },
  {
   "cell_type": "markdown",
   "metadata": {},
   "source": [
    "## Extreme Gradient Boost Classifier"
   ]
  },
  {
   "cell_type": "code",
   "execution_count": 91,
   "metadata": {},
   "outputs": [],
   "source": [
    "from xgboost import XGBClassifier"
   ]
  },
  {
   "cell_type": "code",
   "execution_count": 95,
   "metadata": {},
   "outputs": [],
   "source": [
    "train = np.argmax(y_en,axis =  1)\n",
    "test = np.argmax(val_y_en,axis =  1)\n",
    "test_x = val_x"
   ]
  },
  {
   "cell_type": "code",
   "execution_count": 98,
   "metadata": {},
   "outputs": [],
   "source": [
    "model_xgb = XGBClassifier(learning_rate =0.1, \n",
    "                      n_estimators=400, \n",
    "                      max_depth=8,\n",
    "                      objective= 'multi:softmax', \n",
    "                      nthread=4, )"
   ]
  },
  {
   "cell_type": "code",
   "execution_count": 99,
   "metadata": {},
   "outputs": [
    {
     "name": "stderr",
     "output_type": "stream",
     "text": [
      "C:\\Anaconda\\lib\\site-packages\\xgboost\\sklearn.py:1146: UserWarning: The use of label encoder in XGBClassifier is deprecated and will be removed in a future release. To remove this warning, do the following: 1) Pass option use_label_encoder=False when constructing XGBClassifier object; and 2) Encode your labels (y) as integers starting with 0, i.e. 0, 1, 2, ..., [num_class - 1].\n",
      "  warnings.warn(label_encoder_deprecation_msg, UserWarning)\n"
     ]
    },
    {
     "name": "stdout",
     "output_type": "stream",
     "text": [
      "[14:47:50] WARNING: C:/Users/Administrator/workspace/xgboost-win64_release_1.4.0/src/learner.cc:1095: Starting in XGBoost 1.3.0, the default evaluation metric used with the objective 'multi:softprob' was changed from 'merror' to 'mlogloss'. Explicitly set eval_metric if you'd like to restore the old behavior.\n"
     ]
    },
    {
     "data": {
      "text/plain": [
       "XGBClassifier(base_score=0.5, booster='gbtree', colsample_bylevel=1,\n",
       "              colsample_bynode=1, colsample_bytree=1, gamma=0, gpu_id=-1,\n",
       "              importance_type='gain', interaction_constraints='',\n",
       "              learning_rate=0.1, max_delta_step=0, max_depth=8,\n",
       "              min_child_weight=1, missing=nan, monotone_constraints='()',\n",
       "              n_estimators=400, n_jobs=4, nthread=4, num_parallel_tree=1,\n",
       "              objective='multi:softprob', random_state=0, reg_alpha=0,\n",
       "              reg_lambda=1, scale_pos_weight=None, subsample=1,\n",
       "              tree_method='exact', validate_parameters=1, verbosity=None)"
      ]
     },
     "execution_count": 99,
     "metadata": {},
     "output_type": "execute_result"
    }
   ],
   "source": [
    "model_xgb.fit(X,train)"
   ]
  },
  {
   "cell_type": "code",
   "execution_count": 101,
   "metadata": {},
   "outputs": [],
   "source": [
    "pred = model_xgb.predict(test_x)"
   ]
  },
  {
   "cell_type": "code",
   "execution_count": 104,
   "metadata": {},
   "outputs": [
    {
     "name": "stdout",
     "output_type": "stream",
     "text": [
      "Recall: [0.95652174 0.86428571 0.87581699 0.83647799 0.9028777  0.94736842\n",
      " 0.82474227 0.97704918 0.95131086 0.82450331]\n",
      "Precision: [0.9625     0.96031746 0.81707317 0.90169492 0.89964158 0.95744681\n",
      " 0.88888889 0.91975309 0.93040293 0.82178218]\n",
      "\n",
      " clasification report:\n",
      "               precision    recall  f1-score   support\n",
      "\n",
      "           0       0.96      0.96      0.96       322\n",
      "           1       0.96      0.86      0.91       140\n",
      "           2       0.82      0.88      0.85       306\n",
      "           3       0.90      0.84      0.87       318\n",
      "           4       0.90      0.90      0.90       278\n",
      "           5       0.96      0.95      0.95       285\n",
      "           6       0.89      0.82      0.86        97\n",
      "           7       0.92      0.98      0.95       305\n",
      "           8       0.93      0.95      0.94       267\n",
      "           9       0.82      0.82      0.82       302\n",
      "\n",
      "    accuracy                           0.90      2620\n",
      "   macro avg       0.91      0.90      0.90      2620\n",
      "weighted avg       0.90      0.90      0.90      2620\n",
      "\n",
      "\n",
      " confussion matrix:\n",
      " [[308   0   3   0   3   1   0   2   1   4]\n",
      " [  1 121   0   1   2   1   0   4   1   9]\n",
      " [  2   1 268   5   3   2   3   3   3  16]\n",
      " [  2   1  21 266   3   3   6   2   8   6]\n",
      " [  0   0   3   3 251   0   1  10   2   8]\n",
      " [  1   0   5   1   2 270   0   1   0   5]\n",
      " [  0   0   7   7   1   0  80   0   0   2]\n",
      " [  0   0   0   0   6   0   0 298   0   1]\n",
      " [  0   0   5   3   0   1   0   1 254   3]\n",
      " [  6   3  16   9   8   4   0   3   4 249]]\n"
     ]
    },
    {
     "data": {
      "image/png": "[encoded data removed]",
      "text/plain": [
       "<Figure size 432x288 with 2 Axes>"
      ]
     },
     "metadata": {
      "needs_background": "light"
     },
     "output_type": "display_data"
    }
   ],
   "source": [
    "acc(test,pred)"
   ]
  },
  {
   "cell_type": "code",
   "execution_count": 109,
   "metadata": {},
   "outputs": [],
   "source": [
    "results = np.zeros( (val_x.shape[0],10) ) \n",
    "for j in range(nets):\n",
    "    results = results  + model[j].predict_proba(val_x) + model_xgb.predict_proba(val_x)"
   ]
  },
  {
   "cell_type": "code",
   "execution_count": 110,
   "metadata": {},
   "outputs": [
    {
     "name": "stdout",
     "output_type": "stream",
     "text": [
      "Recall: [0.9689441  0.9        0.90522876 0.85220126 0.93884892 0.96842105\n",
      " 0.82474227 0.98032787 0.9588015  0.86092715]\n",
      "Precision: [0.96594427 0.94029851 0.84194529 0.90635452 0.93548387 0.95833333\n",
      " 0.93023256 0.94920635 0.96603774 0.86092715]\n",
      "\n",
      " clasification report:\n",
      "               precision    recall  f1-score   support\n",
      "\n",
      "           0       0.97      0.97      0.97       322\n",
      "           1       0.94      0.90      0.92       140\n",
      "           2       0.84      0.91      0.87       306\n",
      "           3       0.91      0.85      0.88       318\n",
      "           4       0.94      0.94      0.94       278\n",
      "           5       0.96      0.97      0.96       285\n",
      "           6       0.93      0.82      0.87        97\n",
      "           7       0.95      0.98      0.96       305\n",
      "           8       0.97      0.96      0.96       267\n",
      "           9       0.86      0.86      0.86       302\n",
      "\n",
      "    accuracy                           0.92      2620\n",
      "   macro avg       0.93      0.92      0.92      2620\n",
      "weighted avg       0.92      0.92      0.92      2620\n",
      "\n",
      "\n",
      " confussion matrix:\n",
      " [[312   0   2   0   2   0   0   2   0   4]\n",
      " [  1 126   0   2   0   1   0   1   1   8]\n",
      " [  1   1 277   5   2   4   1   1   2  12]\n",
      " [  4   3  19 271   2   3   4   2   3   7]\n",
      " [  0   0   3   3 261   0   1   6   0   4]\n",
      " [  0   0   3   0   2 276   0   0   0   4]\n",
      " [  0   0   7   8   0   0  80   2   0   0]\n",
      " [  0   0   0   0   5   0   0 299   0   1]\n",
      " [  0   0   5   2   0   1   0   1 256   2]\n",
      " [  5   4  13   8   5   3   0   1   3 260]]\n"
     ]
    },
    {
     "data": {
      "image/png": "[encoded data removed]",
      "text/plain": [
       "<Figure size 432x288 with 2 Axes>"
      ]
     },
     "metadata": {
      "needs_background": "light"
     },
     "output_type": "display_data"
    }
   ],
   "source": [
    "results = np.argmax(results,axis = 1)\n",
    "acc(test,results)"
   ]
  },
  {
   "cell_type": "code",
   "execution_count": 112,
   "metadata": {},
   "outputs": [],
   "source": [
    "results = np.zeros( (val_x.shape[0],10) ) \n",
    "for j in range(nets):\n",
    "    results = results  + model[j].predict_proba(val_x) + nets*model_xgb.predict_proba(val_x)"
   ]
  },
  {
   "cell_type": "code",
   "execution_count": 113,
   "metadata": {},
   "outputs": [
    {
     "name": "stdout",
     "output_type": "stream",
     "text": [
      "Recall: [0.95962733 0.87142857 0.87581699 0.8427673  0.90647482 0.95087719\n",
      " 0.83505155 0.97704918 0.95131086 0.82781457]\n",
      "Precision: [0.965625   0.953125   0.82461538 0.90847458 0.89679715 0.95422535\n",
      " 0.9        0.92260062 0.93726937 0.82508251]\n",
      "\n",
      " clasification report:\n",
      "               precision    recall  f1-score   support\n",
      "\n",
      "           0       0.97      0.96      0.96       322\n",
      "           1       0.95      0.87      0.91       140\n",
      "           2       0.82      0.88      0.85       306\n",
      "           3       0.91      0.84      0.87       318\n",
      "           4       0.90      0.91      0.90       278\n",
      "           5       0.95      0.95      0.95       285\n",
      "           6       0.90      0.84      0.87        97\n",
      "           7       0.92      0.98      0.95       305\n",
      "           8       0.94      0.95      0.94       267\n",
      "           9       0.83      0.83      0.83       302\n",
      "\n",
      "    accuracy                           0.91      2620\n",
      "   macro avg       0.91      0.90      0.90      2620\n",
      "weighted avg       0.91      0.91      0.91      2620\n",
      "\n",
      "\n",
      " confussion matrix:\n",
      " [[309   0   3   0   3   0   0   2   1   4]\n",
      " [  1 122   0   1   2   1   0   4   1   8]\n",
      " [  2   1 268   5   3   3   2   3   3  16]\n",
      " [  2   1  20 268   3   4   6   2   6   6]\n",
      " [  0   0   3   2 252   0   1  10   2   8]\n",
      " [  0   0   5   0   3 271   0   1   0   5]\n",
      " [  0   0   7   6   1   0  81   0   0   2]\n",
      " [  0   0   0   0   6   0   0 298   0   1]\n",
      " [  0   0   5   3   0   1   0   1 254   3]\n",
      " [  6   4  14  10   8   4   0   2   4 250]]\n"
     ]
    },
    {
     "data": {
      "image/png": "[encoded data removed]",
      "text/plain": [
       "<Figure size 432x288 with 2 Axes>"
      ]
     },
     "metadata": {
      "needs_background": "light"
     },
     "output_type": "display_data"
    }
   ],
   "source": [
    "results = np.argmax(results,axis = 1)\n",
    "acc(test,results)"
   ]
  },
  {
   "cell_type": "markdown",
   "metadata": {},
   "source": [
    "## Convolutional Neural Network"
   ]
  },
  {
   "cell_type": "code",
   "execution_count": 116,
   "metadata": {},
   "outputs": [],
   "source": [
    "data = pd.DataFrame(np.load(\"dataset.npy\",allow_pickle= True))\n",
    "data.columns = ['feature', 'label']\n",
    "\n",
    "from sklearn.preprocessing import LabelEncoder"
   ]
  },
  {
   "cell_type": "code",
   "execution_count": 117,
   "metadata": {},
   "outputs": [],
   "source": [
    "X = np.array(data.feature.tolist())\n",
    "y = np.array(data.label.tolist())\n",
    "from sklearn.model_selection import train_test_split\n",
    "X,val_x,y,val_y = train_test_split(X,y)\n",
    "lb = LabelEncoder()\n",
    "\n",
    "from keras.utils import np_utils\n",
    "\n",
    "y = np_utils.to_categorical(lb.fit_transform(y))\n",
    "val_y = np_utils.to_categorical(lb.fit_transform(val_y))"
   ]
  },
  {
   "cell_type": "code",
   "execution_count": 122,
   "metadata": {},
   "outputs": [],
   "source": [
    "import numpy as np\n",
    "from keras.models import Sequential\n",
    "from keras.layers import Dense, Dropout, Activation, Flatten\n",
    "from keras.layers import Convolution2D, MaxPooling2D\n",
    "from keras.optimizers import Adam\n",
    "from keras.utils import np_utils\n",
    "from sklearn import metrics "
   ]
  },
  {
   "cell_type": "code",
   "execution_count": 124,
   "metadata": {},
   "outputs": [],
   "source": [
    "num_labels = y.shape[1]\n",
    "filter_size = 3"
   ]
  },
  {
   "cell_type": "code",
   "execution_count": 125,
   "metadata": {},
   "outputs": [],
   "source": [
    "# build model\n",
    "model = Sequential()\n",
    "\n",
    "model.add(Dense(512, input_shape=(40,)))\n",
    "model.add(Activation('relu'))\n",
    "model.add(Dropout(0.5))\n",
    "\n",
    "model.add(Dense(256))\n",
    "model.add(Activation('relu'))\n",
    "model.add(Dropout(0.5))\n",
    "\n",
    "model.add(Dense(num_labels))\n",
    "model.add(Activation('softmax'))\n",
    "\n",
    "model.compile(loss='categorical_crossentropy', metrics=['accuracy'], optimizer='adam')"
   ]
  },
  {
   "cell_type": "code",
   "execution_count": 130,
   "metadata": {},
   "outputs": [
    {
     "name": "stdout",
     "output_type": "stream",
     "text": [
      "Model: \"sequential_5\"\n",
      "_________________________________________________________________\n",
      "Layer (type)                 Output Shape              Param #   \n",
      "=================================================================\n",
      "dense_15 (Dense)             (None, 512)               20992     \n",
      "_________________________________________________________________\n",
      "activation_15 (Activation)   (None, 512)               0         \n",
      "_________________________________________________________________\n",
      "dropout_10 (Dropout)         (None, 512)               0         \n",
      "_________________________________________________________________\n",
      "dense_16 (Dense)             (None, 256)               131328    \n",
      "_________________________________________________________________\n",
      "activation_16 (Activation)   (None, 256)               0         \n",
      "_________________________________________________________________\n",
      "dropout_11 (Dropout)         (None, 256)               0         \n",
      "_________________________________________________________________\n",
      "dense_17 (Dense)             (None, 10)                2570      \n",
      "_________________________________________________________________\n",
      "activation_17 (Activation)   (None, 10)                0         \n",
      "=================================================================\n",
      "Total params: 154,890\n",
      "Trainable params: 154,890\n",
      "Non-trainable params: 0\n",
      "_________________________________________________________________\n"
     ]
    }
   ],
   "source": [
    "model.summary()"
   ]
  },
  {
   "cell_type": "code",
   "execution_count": 132,
   "metadata": {},
   "outputs": [
    {
     "name": "stdout",
     "output_type": "stream",
     "text": [
      "Epoch 1/64\n",
      "103/103 [==============================] - 1s 8ms/step - loss: 0.6983 - accuracy: 0.7595 - val_loss: 0.5864 - val_accuracy: 0.8172\n",
      "Epoch 2/64\n",
      "103/103 [==============================] - 1s 7ms/step - loss: 0.6873 - accuracy: 0.7648 - val_loss: 0.5725 - val_accuracy: 0.8250\n",
      "Epoch 3/64\n",
      "103/103 [==============================] - 1s 7ms/step - loss: 0.6627 - accuracy: 0.7684 - val_loss: 0.5856 - val_accuracy: 0.8296\n",
      "Epoch 4/64\n",
      "103/103 [==============================] - 1s 7ms/step - loss: 0.6566 - accuracy: 0.7711 - val_loss: 0.5637 - val_accuracy: 0.8337\n",
      "Epoch 5/64\n",
      "103/103 [==============================] - 1s 7ms/step - loss: 0.6437 - accuracy: 0.7820 - val_loss: 0.5339 - val_accuracy: 0.8410\n",
      "Epoch 6/64\n",
      "103/103 [==============================] - 1s 7ms/step - loss: 0.6227 - accuracy: 0.7870 - val_loss: 0.5133 - val_accuracy: 0.8461\n",
      "Epoch 7/64\n",
      "103/103 [==============================] - 1s 7ms/step - loss: 0.6038 - accuracy: 0.7936 - val_loss: 0.5163 - val_accuracy: 0.8438\n",
      "Epoch 8/64\n",
      "103/103 [==============================] - 1s 7ms/step - loss: 0.5997 - accuracy: 0.7962 - val_loss: 0.5178 - val_accuracy: 0.8374\n",
      "Epoch 9/64\n",
      "103/103 [==============================] - 1s 7ms/step - loss: 0.5804 - accuracy: 0.8018 - val_loss: 0.4894 - val_accuracy: 0.8520\n",
      "Epoch 10/64\n",
      "103/103 [==============================] - 1s 7ms/step - loss: 0.5953 - accuracy: 0.7962 - val_loss: 0.4943 - val_accuracy: 0.8484\n",
      "Epoch 11/64\n",
      "103/103 [==============================] - 1s 7ms/step - loss: 0.5856 - accuracy: 0.8059 - val_loss: 0.4955 - val_accuracy: 0.8507\n",
      "Epoch 12/64\n",
      "103/103 [==============================] - 1s 7ms/step - loss: 0.5540 - accuracy: 0.8070 - val_loss: 0.4712 - val_accuracy: 0.8621\n",
      "Epoch 13/64\n",
      "103/103 [==============================] - 1s 7ms/step - loss: 0.5565 - accuracy: 0.8093 - val_loss: 0.4776 - val_accuracy: 0.8639\n",
      "Epoch 14/64\n",
      "103/103 [==============================] - 1s 7ms/step - loss: 0.5566 - accuracy: 0.8090 - val_loss: 0.4540 - val_accuracy: 0.8662\n",
      "Epoch 15/64\n",
      "103/103 [==============================] - 1s 7ms/step - loss: 0.5364 - accuracy: 0.8108 - val_loss: 0.4734 - val_accuracy: 0.8617\n",
      "Epoch 16/64\n",
      "103/103 [==============================] - 1s 8ms/step - loss: 0.5382 - accuracy: 0.8146 - val_loss: 0.4594 - val_accuracy: 0.8617\n",
      "Epoch 17/64\n",
      "103/103 [==============================] - 1s 7ms/step - loss: 0.5201 - accuracy: 0.8268 - val_loss: 0.4558 - val_accuracy: 0.8667\n",
      "Epoch 18/64\n",
      "103/103 [==============================] - 1s 7ms/step - loss: 0.5318 - accuracy: 0.8232 - val_loss: 0.4593 - val_accuracy: 0.8548\n",
      "Epoch 19/64\n",
      "103/103 [==============================] - 1s 7ms/step - loss: 0.4965 - accuracy: 0.8276 - val_loss: 0.4325 - val_accuracy: 0.8694\n",
      "Epoch 20/64\n",
      "103/103 [==============================] - 1s 7ms/step - loss: 0.5078 - accuracy: 0.8217 - val_loss: 0.4435 - val_accuracy: 0.8704\n",
      "Epoch 21/64\n",
      "103/103 [==============================] - 1s 7ms/step - loss: 0.5187 - accuracy: 0.8275 - val_loss: 0.4371 - val_accuracy: 0.8681\n",
      "Epoch 22/64\n",
      "103/103 [==============================] - 1s 7ms/step - loss: 0.4787 - accuracy: 0.8351 - val_loss: 0.4122 - val_accuracy: 0.8694\n",
      "Epoch 23/64\n",
      "103/103 [==============================] - 1s 7ms/step - loss: 0.5001 - accuracy: 0.8304 - val_loss: 0.4241 - val_accuracy: 0.8672\n",
      "Epoch 24/64\n",
      "103/103 [==============================] - 1s 7ms/step - loss: 0.4868 - accuracy: 0.8359 - val_loss: 0.4171 - val_accuracy: 0.8772\n",
      "Epoch 25/64\n",
      "103/103 [==============================] - 1s 7ms/step - loss: 0.4793 - accuracy: 0.8343 - val_loss: 0.4184 - val_accuracy: 0.8772\n",
      "Epoch 26/64\n",
      "103/103 [==============================] - 1s 7ms/step - loss: 0.4652 - accuracy: 0.8352 - val_loss: 0.4048 - val_accuracy: 0.8855\n",
      "Epoch 27/64\n",
      "103/103 [==============================] - 1s 7ms/step - loss: 0.4551 - accuracy: 0.8449 - val_loss: 0.4207 - val_accuracy: 0.8814\n",
      "Epoch 28/64\n",
      "103/103 [==============================] - 1s 7ms/step - loss: 0.4568 - accuracy: 0.8459 - val_loss: 0.4020 - val_accuracy: 0.8855\n",
      "Epoch 29/64\n",
      "103/103 [==============================] - 1s 7ms/step - loss: 0.4612 - accuracy: 0.8415 - val_loss: 0.4155 - val_accuracy: 0.8759\n",
      "Epoch 30/64\n",
      "103/103 [==============================] - 1s 7ms/step - loss: 0.4357 - accuracy: 0.8514 - val_loss: 0.3928 - val_accuracy: 0.8859\n",
      "Epoch 31/64\n",
      "103/103 [==============================] - 1s 7ms/step - loss: 0.4264 - accuracy: 0.8530 - val_loss: 0.3989 - val_accuracy: 0.8809\n",
      "Epoch 32/64\n",
      "103/103 [==============================] - 1s 7ms/step - loss: 0.4333 - accuracy: 0.8540 - val_loss: 0.4097 - val_accuracy: 0.8800\n",
      "Epoch 33/64\n",
      "103/103 [==============================] - 1s 7ms/step - loss: 0.4273 - accuracy: 0.8520 - val_loss: 0.3936 - val_accuracy: 0.8928\n",
      "Epoch 34/64\n",
      "103/103 [==============================] - 1s 7ms/step - loss: 0.4424 - accuracy: 0.8511 - val_loss: 0.4061 - val_accuracy: 0.8795\n",
      "Epoch 35/64\n",
      "103/103 [==============================] - 1s 7ms/step - loss: 0.4146 - accuracy: 0.8595 - val_loss: 0.4087 - val_accuracy: 0.8791\n",
      "Epoch 36/64\n",
      "103/103 [==============================] - 1s 7ms/step - loss: 0.4155 - accuracy: 0.8545 - val_loss: 0.3887 - val_accuracy: 0.8873\n",
      "Epoch 37/64\n",
      "103/103 [==============================] - 1s 7ms/step - loss: 0.4215 - accuracy: 0.8533 - val_loss: 0.3888 - val_accuracy: 0.8859\n",
      "Epoch 38/64\n",
      "103/103 [==============================] - 1s 7ms/step - loss: 0.4162 - accuracy: 0.8554 - val_loss: 0.3799 - val_accuracy: 0.8896\n",
      "Epoch 39/64\n",
      "103/103 [==============================] - 1s 7ms/step - loss: 0.4110 - accuracy: 0.8624 - val_loss: 0.4041 - val_accuracy: 0.8873\n",
      "Epoch 40/64\n",
      "103/103 [==============================] - 1s 7ms/step - loss: 0.4326 - accuracy: 0.8549 - val_loss: 0.3951 - val_accuracy: 0.8896\n",
      "Epoch 41/64\n",
      "103/103 [==============================] - 1s 7ms/step - loss: 0.4025 - accuracy: 0.8627 - val_loss: 0.3894 - val_accuracy: 0.8891\n",
      "Epoch 42/64\n",
      "103/103 [==============================] - 1s 7ms/step - loss: 0.3995 - accuracy: 0.8623 - val_loss: 0.4216 - val_accuracy: 0.8800\n",
      "Epoch 43/64\n",
      "103/103 [==============================] - 1s 7ms/step - loss: 0.4147 - accuracy: 0.8595 - val_loss: 0.3978 - val_accuracy: 0.8905\n",
      "Epoch 44/64\n",
      "103/103 [==============================] - 1s 7ms/step - loss: 0.3883 - accuracy: 0.8641 - val_loss: 0.3767 - val_accuracy: 0.8978\n",
      "Epoch 45/64\n",
      "103/103 [==============================] - 1s 7ms/step - loss: 0.3954 - accuracy: 0.8661 - val_loss: 0.3973 - val_accuracy: 0.8896\n",
      "Epoch 46/64\n",
      "103/103 [==============================] - 1s 7ms/step - loss: 0.3880 - accuracy: 0.8667 - val_loss: 0.3857 - val_accuracy: 0.8905\n",
      "Epoch 47/64\n",
      "103/103 [==============================] - 1s 7ms/step - loss: 0.3743 - accuracy: 0.8719 - val_loss: 0.3707 - val_accuracy: 0.8923\n",
      "Epoch 48/64\n",
      "103/103 [==============================] - 1s 7ms/step - loss: 0.3775 - accuracy: 0.8713 - val_loss: 0.3893 - val_accuracy: 0.8928\n",
      "Epoch 49/64\n",
      "103/103 [==============================] - 1s 7ms/step - loss: 0.3904 - accuracy: 0.8693 - val_loss: 0.3854 - val_accuracy: 0.8942\n",
      "Epoch 50/64\n",
      "103/103 [==============================] - 1s 7ms/step - loss: 0.3662 - accuracy: 0.8748 - val_loss: 0.3695 - val_accuracy: 0.8983\n",
      "Epoch 51/64\n",
      "103/103 [==============================] - 1s 7ms/step - loss: 0.3795 - accuracy: 0.8702 - val_loss: 0.4000 - val_accuracy: 0.8891\n",
      "Epoch 52/64\n",
      "103/103 [==============================] - 1s 7ms/step - loss: 0.3762 - accuracy: 0.8742 - val_loss: 0.3916 - val_accuracy: 0.8846\n",
      "Epoch 53/64\n",
      "103/103 [==============================] - 1s 7ms/step - loss: 0.3584 - accuracy: 0.8798 - val_loss: 0.3994 - val_accuracy: 0.8896\n",
      "Epoch 54/64\n",
      "103/103 [==============================] - 1s 7ms/step - loss: 0.3707 - accuracy: 0.8746 - val_loss: 0.3794 - val_accuracy: 0.8901\n",
      "Epoch 55/64\n",
      "103/103 [==============================] - 1s 7ms/step - loss: 0.3774 - accuracy: 0.8698 - val_loss: 0.3733 - val_accuracy: 0.8960\n",
      "Epoch 56/64\n",
      "103/103 [==============================] - 1s 7ms/step - loss: 0.3532 - accuracy: 0.8798 - val_loss: 0.3801 - val_accuracy: 0.8919\n",
      "Epoch 57/64\n",
      "103/103 [==============================] - 1s 7ms/step - loss: 0.3465 - accuracy: 0.8817 - val_loss: 0.3666 - val_accuracy: 0.8960\n",
      "Epoch 58/64\n",
      "103/103 [==============================] - 1s 7ms/step - loss: 0.3597 - accuracy: 0.8766 - val_loss: 0.3951 - val_accuracy: 0.8910\n",
      "Epoch 59/64\n",
      "103/103 [==============================] - 1s 7ms/step - loss: 0.3662 - accuracy: 0.8751 - val_loss: 0.3677 - val_accuracy: 0.9033\n",
      "Epoch 60/64\n",
      "103/103 [==============================] - 1s 7ms/step - loss: 0.3530 - accuracy: 0.8777 - val_loss: 0.3946 - val_accuracy: 0.9024\n",
      "Epoch 61/64\n",
      "103/103 [==============================] - 1s 7ms/step - loss: 0.3571 - accuracy: 0.8775 - val_loss: 0.4027 - val_accuracy: 0.8832\n",
      "Epoch 62/64\n",
      "103/103 [==============================] - 1s 7ms/step - loss: 0.3708 - accuracy: 0.8780 - val_loss: 0.3874 - val_accuracy: 0.8928\n",
      "Epoch 63/64\n",
      "103/103 [==============================] - 1s 7ms/step - loss: 0.3295 - accuracy: 0.8888 - val_loss: 0.3555 - val_accuracy: 0.9001\n",
      "Epoch 64/64\n",
      "103/103 [==============================] - 1s 7ms/step - loss: 0.3470 - accuracy: 0.8829 - val_loss: 0.3764 - val_accuracy: 0.8914\n"
     ]
    },
    {
     "data": {
      "text/plain": [
       "<tensorflow.python.keras.callbacks.History at 0x1b987bd23d0>"
      ]
     },
     "execution_count": 132,
     "metadata": {},
     "output_type": "execute_result"
    }
   ],
   "source": [
    "model.fit(X, y, batch_size=64, epochs=64, validation_data=(val_x, val_y))"
   ]
  },
  {
   "cell_type": "markdown",
   "metadata": {},
   "source": [
    "## Random Forest Classifier"
   ]
  },
  {
   "cell_type": "code",
   "execution_count": 135,
   "metadata": {},
   "outputs": [],
   "source": [
    "from sklearn.ensemble import RandomForestClassifier"
   ]
  },
  {
   "cell_type": "code",
   "execution_count": 136,
   "metadata": {},
   "outputs": [
    {
     "name": "stderr",
     "output_type": "stream",
     "text": [
      "WARNING: pip is being invoked by an old script wrapper. This will fail in a future version of pip.\n",
      "Please see https://github.com/pypa/pip/issues/5599 for advice on fixing the underlying issue.\n",
      "To avoid this problem you can invoke Python with '-m pip' instead of running pip directly.\n"
     ]
    },
    {
     "name": "stdout",
     "output_type": "stream",
     "text": [
      "Processing c:\\users\\nisarg mehta\\appdata\\local\\pip\\cache\\wheels\\2c\\67\\ed\\d84123843c937d7e7f5ba88a270d11036473144143355e2747\\progressbar-2.5-py3-none-any.whl\n",
      "Installing collected packages: progressbar\n",
      "Successfully installed progressbar-2.5\n"
     ]
    }
   ],
   "source": [
    "from pip._internal import main\n",
    "main([\"install\",\"progressbar\"])\n",
    "import progressbar\n",
    "import time"
   ]
  },
  {
   "cell_type": "code",
   "execution_count": 139,
   "metadata": {},
   "outputs": [],
   "source": [
    "train = np.argmax(y,axis =  1)"
   ]
  },
  {
   "cell_type": "code",
   "execution_count": 142,
   "metadata": {},
   "outputs": [
    {
     "data": {
      "text/plain": [
       "(6549,)"
      ]
     },
     "execution_count": 142,
     "metadata": {},
     "output_type": "execute_result"
    }
   ],
   "source": [
    "train.shape"
   ]
  },
  {
   "cell_type": "code",
   "execution_count": 143,
   "metadata": {},
   "outputs": [],
   "source": [
    "test = np.argmax(val_y,axis =  1)"
   ]
  },
  {
   "cell_type": "code",
   "execution_count": 144,
   "metadata": {},
   "outputs": [
    {
     "data": {
      "text/plain": [
       "(6549, 40)"
      ]
     },
     "execution_count": 144,
     "metadata": {},
     "output_type": "execute_result"
    }
   ],
   "source": [
    "x =X\n",
    "X.shape"
   ]
  },
  {
   "cell_type": "code",
   "execution_count": 146,
   "metadata": {},
   "outputs": [],
   "source": [
    "test_x = val_x"
   ]
  },
  {
   "cell_type": "code",
   "execution_count": 148,
   "metadata": {},
   "outputs": [],
   "source": [
    "import sklearn.metrics as met"
   ]
  },
  {
   "cell_type": "code",
   "execution_count": 149,
   "metadata": {},
   "outputs": [],
   "source": [
    "score = []\n",
    "l = [i for i in range(50,300,25)]\n",
    "for i in range(50,300,25):\n",
    "    model = RandomForestClassifier(n_estimators=i ,criterion = \"entropy\", bootstrap= False)\n",
    "    model.fit(x,train)\n",
    "    pred = model.predict(test_x)\n",
    "    score.append(met.accuracy_score(test, pred))"
   ]
  },
  {
   "cell_type": "code",
   "execution_count": 150,
   "metadata": {},
   "outputs": [
    {
     "data": {
      "text/plain": [
       "0.9033440219880898"
      ]
     },
     "execution_count": 150,
     "metadata": {},
     "output_type": "execute_result"
    }
   ],
   "source": [
    "met.accuracy_score(test, pred)"
   ]
  },
  {
   "cell_type": "code",
   "execution_count": 154,
   "metadata": {},
   "outputs": [
    {
     "data": {
      "text/plain": [
       "array([[230,   0,   0,   0,   1,   0,   0,   2,   0,   2],\n",
       "       [  0,  83,   5,   2,   2,   3,   0,   2,   4,   9],\n",
       "       [  1,   0, 228,  10,   3,   0,   0,   3,   0,   5],\n",
       "       [  2,   1,  12, 206,   6,   4,   0,   0,   9,   9],\n",
       "       [  0,   0,   4,   0, 201,   0,   0,   9,   0,   5],\n",
       "       [  0,   0,   4,   1,   1, 256,   0,   1,   1,   1],\n",
       "       [  0,   0,   3,  14,   1,   0,  73,   1,   1,   4],\n",
       "       [  0,   0,   1,   0,  10,   0,   0, 255,   0,   2],\n",
       "       [  0,   0,   0,   4,   0,   0,   0,   0, 235,   1],\n",
       "       [  1,   2,  17,   7,   8,   3,   0,   2,   5, 205]], dtype=int64)"
      ]
     },
     "execution_count": 154,
     "metadata": {},
     "output_type": "execute_result"
    }
   ],
   "source": [
    "met.confusion_matrix(test, pred)"
   ]
  },
  {
   "cell_type": "code",
   "execution_count": 160,
   "metadata": {},
   "outputs": [
    {
     "data": {
      "image/png": "[encoded data removed]",
      "text/plain": [
       "<Figure size 432x288 with 1 Axes>"
      ]
     },
     "metadata": {
      "needs_background": "light"
     },
     "output_type": "display_data"
    }
   ],
   "source": [
    "from matplotlib import pyplot as plt\n",
    "plt.plot(l,score)\n",
    "plt.show()"
   ]
  },
  {
   "cell_type": "code",
   "execution_count": null,
   "metadata": {},
   "outputs": [],
   "source": []
  }
 ],
 "metadata": {
  "kernelspec": {
   "display_name": "Python 3",
   "language": "python",
   "name": "python3"
  },
  "language_info": {
   "codemirror_mode": {
    "name": "ipython",
    "version": 3
   },
   "file_extension": ".py",
   "mimetype": "text/x-python",
   "name": "python",
   "nbconvert_exporter": "python",
   "pygments_lexer": "ipython3",
   "version": "3.8.5"
  }
 },
 "nbformat": 4,
 "nbformat_minor": 4
}
